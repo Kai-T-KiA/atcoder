{
 "cells": [
  {
   "cell_type": "code",
   "execution_count": null,
   "metadata": {},
   "outputs": [],
   "source": [
    "# 入力を受け取るのにmap関数を使用\n",
    "a1, a2 , a3, a4, a5, a6, a7, a8, a9 = map(int, input().split())\n",
    "\n",
    "b1, b2, b3, b4, b5, b6, b7, b8 = map(int, input().split())"
   ]
  },
  {
   "cell_type": "code",
   "execution_count": null,
   "metadata": {},
   "outputs": [],
   "source": [
    "# 各チームの点数の合計を計算\n",
    "\n",
    "a_sum = a1 + a2 + a3 + a4 + a5 + a6 + a7 + a8 + a9\n",
    "b_sum = b1 + b2 + b3 + b4 + b5 + b6 + b7 + b8 "
   ]
  },
  {
   "cell_type": "code",
   "execution_count": null,
   "metadata": {},
   "outputs": [],
   "source": [
    "print(a_sum-b_sum+1)"
   ]
  },
  {
   "cell_type": "markdown",
   "metadata": {},
   "source": [
    "問題URL\n",
    "https://atcoder.jp/contests/abc351/tasks/abc351_a"
   ]
  }
 ],
 "metadata": {
  "language_info": {
   "name": "python"
  }
 },
 "nbformat": 4,
 "nbformat_minor": 2
}
